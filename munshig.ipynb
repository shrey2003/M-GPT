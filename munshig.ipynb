{
 "cells": [
  {
   "cell_type": "code",
   "execution_count": 1,
   "metadata": {},
   "outputs": [
    {
     "name": "stdout",
     "output_type": "stream",
     "text": [
      "Requirement already satisfied: llama-index in c:\\users\\shreya mishra\\anaconda3\\lib\\site-packages (0.5.8)\n",
      "Requirement already satisfied: numpy in c:\\users\\shreya mishra\\anaconda3\\lib\\site-packages (from llama-index) (1.21.5)\n",
      "Requirement already satisfied: pandas in c:\\users\\shreya mishra\\anaconda3\\lib\\site-packages (from llama-index) (1.4.4)\n",
      "Requirement already satisfied: tiktoken in c:\\users\\shreya mishra\\anaconda3\\lib\\site-packages (from llama-index) (0.3.3)\n",
      "Requirement already satisfied: langchain in c:\\users\\shreya mishra\\anaconda3\\lib\\site-packages (from llama-index) (0.0.132)\n",
      "Requirement already satisfied: openai>=0.26.4 in c:\\users\\shreya mishra\\anaconda3\\lib\\site-packages (from llama-index) (0.27.4)\n",
      "Requirement already satisfied: tenacity<9.0.0,>=8.2.0 in c:\\users\\shreya mishra\\anaconda3\\lib\\site-packages (from llama-index) (8.2.2)\n",
      "Requirement already satisfied: dataclasses-json in c:\\users\\shreya mishra\\anaconda3\\lib\\site-packages (from llama-index) (0.5.7)\n",
      "Requirement already satisfied: tqdm in c:\\users\\shreya mishra\\anaconda3\\lib\\site-packages (from openai>=0.26.4->llama-index) (4.64.1)\n",
      "Requirement already satisfied: requests>=2.20 in c:\\users\\shreya mishra\\anaconda3\\lib\\site-packages (from openai>=0.26.4->llama-index) (2.28.1)\n",
      "Requirement already satisfied: aiohttp in c:\\users\\shreya mishra\\anaconda3\\lib\\site-packages (from openai>=0.26.4->llama-index) (3.8.4)\n",
      "Requirement already satisfied: marshmallow<4.0.0,>=3.3.0 in c:\\users\\shreya mishra\\anaconda3\\lib\\site-packages (from dataclasses-json->llama-index) (3.19.0)\n",
      "Requirement already satisfied: typing-inspect>=0.4.0 in c:\\users\\shreya mishra\\anaconda3\\lib\\site-packages (from dataclasses-json->llama-index) (0.8.0)\n",
      "Requirement already satisfied: marshmallow-enum<2.0.0,>=1.5.1 in c:\\users\\shreya mishra\\anaconda3\\lib\\site-packages (from dataclasses-json->llama-index) (1.5.1)\n",
      "Requirement already satisfied: PyYAML>=5.4.1 in c:\\users\\shreya mishra\\anaconda3\\lib\\site-packages (from langchain->llama-index) (6.0)\n",
      "Requirement already satisfied: SQLAlchemy<2,>=1 in c:\\users\\shreya mishra\\anaconda3\\lib\\site-packages (from langchain->llama-index) (1.4.39)\n",
      "Requirement already satisfied: pydantic<2,>=1 in c:\\users\\shreya mishra\\anaconda3\\lib\\site-packages (from langchain->llama-index) (1.10.6)\n",
      "Requirement already satisfied: python-dateutil>=2.8.1 in c:\\users\\shreya mishra\\anaconda3\\lib\\site-packages (from pandas->llama-index) (2.8.2)\n",
      "Requirement already satisfied: pytz>=2020.1 in c:\\users\\shreya mishra\\anaconda3\\lib\\site-packages (from pandas->llama-index) (2022.1)\n",
      "Requirement already satisfied: regex>=2022.1.18 in c:\\users\\shreya mishra\\anaconda3\\lib\\site-packages (from tiktoken->llama-index) (2022.7.9)\n",
      "Requirement already satisfied: multidict<7.0,>=4.5 in c:\\users\\shreya mishra\\anaconda3\\lib\\site-packages (from aiohttp->openai>=0.26.4->llama-index) (6.0.4)\n",
      "Requirement already satisfied: yarl<2.0,>=1.0 in c:\\users\\shreya mishra\\anaconda3\\lib\\site-packages (from aiohttp->openai>=0.26.4->llama-index) (1.8.2)\n",
      "Requirement already satisfied: aiosignal>=1.1.2 in c:\\users\\shreya mishra\\anaconda3\\lib\\site-packages (from aiohttp->openai>=0.26.4->llama-index) (1.3.1)\n",
      "Requirement already satisfied: frozenlist>=1.1.1 in c:\\users\\shreya mishra\\anaconda3\\lib\\site-packages (from aiohttp->openai>=0.26.4->llama-index) (1.3.3)\n",
      "Requirement already satisfied: async-timeout<5.0,>=4.0.0a3 in c:\\users\\shreya mishra\\anaconda3\\lib\\site-packages (from aiohttp->openai>=0.26.4->llama-index) (4.0.2)\n",
      "Requirement already satisfied: attrs>=17.3.0 in c:\\users\\shreya mishra\\anaconda3\\lib\\site-packages (from aiohttp->openai>=0.26.4->llama-index) (21.4.0)\n",
      "Requirement already satisfied: charset-normalizer<4.0,>=2.0 in c:\\users\\shreya mishra\\anaconda3\\lib\\site-packages (from aiohttp->openai>=0.26.4->llama-index) (2.0.4)\n",
      "Requirement already satisfied: packaging>=17.0 in c:\\users\\shreya mishra\\anaconda3\\lib\\site-packages (from marshmallow<4.0.0,>=3.3.0->dataclasses-json->llama-index) (21.3)\n",
      "Requirement already satisfied: typing-extensions>=4.2.0 in c:\\users\\shreya mishra\\anaconda3\\lib\\site-packages (from pydantic<2,>=1->langchain->llama-index) (4.3.0)\n",
      "Requirement already satisfied: six>=1.5 in c:\\users\\shreya mishra\\anaconda3\\lib\\site-packages (from python-dateutil>=2.8.1->pandas->llama-index) (1.16.0)\n",
      "Requirement already satisfied: urllib3<1.27,>=1.21.1 in c:\\users\\shreya mishra\\anaconda3\\lib\\site-packages (from requests>=2.20->openai>=0.26.4->llama-index) (1.26.11)\n",
      "Requirement already satisfied: certifi>=2017.4.17 in c:\\users\\shreya mishra\\anaconda3\\lib\\site-packages (from requests>=2.20->openai>=0.26.4->llama-index) (2022.9.14)\n",
      "Requirement already satisfied: idna<4,>=2.5 in c:\\users\\shreya mishra\\anaconda3\\lib\\site-packages (from requests>=2.20->openai>=0.26.4->llama-index) (3.3)\n",
      "Requirement already satisfied: greenlet!=0.4.17 in c:\\users\\shreya mishra\\anaconda3\\lib\\site-packages (from SQLAlchemy<2,>=1->langchain->llama-index) (1.1.1)\n",
      "Requirement already satisfied: mypy-extensions>=0.3.0 in c:\\users\\shreya mishra\\anaconda3\\lib\\site-packages (from typing-inspect>=0.4.0->dataclasses-json->llama-index) (0.4.3)\n",
      "Requirement already satisfied: colorama in c:\\users\\shreya mishra\\anaconda3\\lib\\site-packages (from tqdm->openai>=0.26.4->llama-index) (0.4.5)\n",
      "Requirement already satisfied: pyparsing!=3.0.5,>=2.0.2 in c:\\users\\shreya mishra\\anaconda3\\lib\\site-packages (from packaging>=17.0->marshmallow<4.0.0,>=3.3.0->dataclasses-json->llama-index) (3.0.9)\n",
      "Note: you may need to restart the kernel to use updated packages.\n"
     ]
    }
   ],
   "source": []
  }
 ],
 "metadata": {
  "kernelspec": {
   "display_name": "base",
   "language": "python",
   "name": "python3"
  },
  "language_info": {
   "codemirror_mode": {
    "name": "ipython",
    "version": 3
   },
   "file_extension": ".py",
   "mimetype": "text/x-python",
   "name": "python",
   "nbconvert_exporter": "python",
   "pygments_lexer": "ipython3",
   "version": "3.9.13"
  },
  "orig_nbformat": 4
 },
 "nbformat": 4,
 "nbformat_minor": 2
}
